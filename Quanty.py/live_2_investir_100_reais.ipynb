{
 "cells": [
  {
   "cell_type": "markdown",
   "id": "5761e98a-6963-4664-a37a-20d0c5fceae7",
   "metadata": {},
   "source": [
    "# QUANT.PY - 002\n",
    "\n",
    "* Lives toda terça-feira, 20h.\n",
    "  \n",
    "  ### Grupo das lives na descrição:\n",
    "    * O código/material será enviado lá. Está na descrição do grupo. \n",
    "    * Avisos das próximas lives.\n",
    "    * Cronograma de projetos do mês. Ative o lembrete da nossa próxima live! \n",
    "<br>\n",
    "* Aqui eu vou abordar direto na prática. Se você for muito iniciante e se sentir perdido, te convido a entrar no Finanças com Dados pra aprender toda base do Python.\n",
    "\n",
    "* Vai rolar um evento chamado Arquivos Confidenciais daqui a 2 semanas onde eu vou mostrar 3 modelos de investimento lucrativos e inéditos. No final do evento vai rolar uma promoção pra entrar no Códigopy, que é minha formação de analise de dados pro mercado financeiro. 2º link da descrição.\n",
    "\n",
    "----\n",
    "\n",
    "# Projeto: Qual o melhor ativo para investir com R$ 100 reais?\n",
    "\n",
    "* Essa análise também serve para valores maiores. \n",
    "* Retorno histórico\n",
    "* Risco histórico\n",
    "* Retorno ajustado ao Risco (Índice Sharpe)\n",
    "\n",
    "## Ativos analisados\n",
    "\n",
    "IBOV, S&P500, QQQ, IFIX, SMALL CAPS BR, IMAB5, CDI, IDIV, SPHD, OURO, BITCOIN.\n",
    "\n",
    "## Fonte Dados\n",
    "\n",
    "* Yahoo Finance: BTC, IBOV, SP500, SPHD, GLD, QQQ\n",
    "* VAROS: IFIX, SMALL CAPS BR, IDIV\n",
    "* Banco central: CDI e PTAX\n",
    "\n",
    "\n",
    "### Passo a passo:\n",
    "\n",
    "   **Passo 1** - Importar bibliotecas\n",
    "   \n",
    "   **Passo 2** - Pegar dados do dólar\n",
    "   \n",
    "   **Passo 3** - Pegar dados do Yahoo Finance\n",
    "   \n",
    "   **Passo 4** - Transformar ativos dolarizados para reais\n",
    "   \n",
    "   **Passo 5** - Calcular retornos diários dos ativos do Yahoo Finance\n",
    "   \n",
    "   **Passo 6** - Pegar dados de índices fornecidos pela VAROS\n",
    "   \n",
    "   **Passo 7** - Pegar o retorno do CDI do banco central\n",
    "   \n",
    "   **Passo 8** - Juntar todos os dados de retorno\n",
    "\n",
    "   **Passo 9** - Calcular volatilidade histórica\n",
    "\n",
    "   **Passo 10** - Calcular retorno histórico (acumulado e ao ano)\n",
    "\n",
    "   **Passo 11** - Calcular retorno ajustado ao risco \n",
    "\n",
    "   **Passo 12** - Visualizar resultados finais\n",
    "\n",
    "   ****\n",
    "   \n",
    "   \n",
    "-------------------"
   ]
  },
  {
   "cell_type": "code",
   "execution_count": null,
   "id": "f90aa0e0-ed6d-4969-a3d9-856d311fa351",
   "metadata": {},
   "outputs": [],
   "source": [
    "!pip install yfinance"
   ]
  },
  {
   "cell_type": "code",
   "execution_count": null,
   "id": "280c2456-488f-4d10-885f-47c36cb95772",
   "metadata": {},
   "outputs": [],
   "source": [
    "!pip install python-bcb"
   ]
  },
  {
   "cell_type": "markdown",
   "id": "8c500ef8-7ed0-4913-a8f6-05ffc7363765",
   "metadata": {},
   "source": [
    "# Passo 1 - Importar bibliotecas"
   ]
  },
  {
   "cell_type": "code",
   "execution_count": null,
   "id": "792e8707-bf04-4ef3-abb1-b23b36c525bf",
   "metadata": {},
   "outputs": [],
   "source": [
    "import pandas as pd\n",
    "import yfinance as yf\n",
    "from bcb import sgs\n",
    "from bcb import currency\n",
    "import datetime\n",
    "import numpy as np"
   ]
  },
  {
   "cell_type": "markdown",
   "id": "fdaf7d95-8c20-437b-8d3d-a93bb7df1af6",
   "metadata": {},
   "source": [
    "# Passo 2 - Pegar dados do dólar"
   ]
  },
  {
   "cell_type": "code",
   "execution_count": null,
   "id": "e214b005",
   "metadata": {},
   "outputs": [],
   "source": [
    "cotacao_dolar = currency.get({\"USD\": 1}, start= datetime.datetime(2014, 9, 17), end = datetime.datetime.now())\n",
    "\n",
    "cotacao_dolar"
   ]
  },
  {
   "cell_type": "markdown",
   "id": "59a0eea0-e987-4441-815b-c14cc9ae6c17",
   "metadata": {},
   "source": [
    "# Passo 3 - Pegar dados do Yahoo Finance"
   ]
  },
  {
   "cell_type": "code",
   "execution_count": null,
   "id": "3bd2d4ae-2b1e-4034-bb78-7139fc7a5d41",
   "metadata": {},
   "outputs": [],
   "source": [
    "dados_yahoo_finance = yf.download([\"^BVSP\", \"^GSPC\", \"SPHD\", \"GLD\", \"BTC-USD\", \"QQQ\"], end = \"2024-10-01\")['Adj Close']\n",
    "dados_yahoo_finance = dados_yahoo_finance.dropna()\n",
    "dados_yahoo_finance"
   ]
  },
  {
   "cell_type": "markdown",
   "id": "ff3fbdb9-16e5-4902-9b9b-6a6d0103a04c",
   "metadata": {},
   "source": [
    "# Passo 4 - Transformar ativos dolarizados para reais"
   ]
  },
  {
   "cell_type": "code",
   "execution_count": null,
   "id": "23cafe98-a777-497d-9488-8bb042b5191b",
   "metadata": {},
   "outputs": [],
   "source": [
    "for ativo in dados_yahoo_finance.columns:\n",
    "\n",
    "    if ativo == \"^BVSP\":\n",
    "        pass\n",
    "    else:\n",
    "        \n",
    "        dados_yahoo_finance[ativo] = dados_yahoo_finance[ativo] * cotacao_dolar[\"USD\"]\n",
    "\n",
    "dados_yahoo_finance.columns = dados_yahoo_finance.columns.str.replace('BTC-USD', 'BTC-BRL')\n",
    "\n",
    "dados_yahoo_finance"
   ]
  },
  {
   "cell_type": "markdown",
   "id": "3b03f595-993e-4bb7-b187-d04cdb4df93e",
   "metadata": {},
   "source": [
    "# Passo 5 - Calcular retornos diários dos ativos do Yahoo Finance"
   ]
  },
  {
   "cell_type": "code",
   "execution_count": null,
   "id": "178a928f-c419-4155-8678-d52b615ba5dd",
   "metadata": {},
   "outputs": [],
   "source": [
    "dados_yahoo_finance = dados_yahoo_finance.pct_change().dropna()\n",
    "\n",
    "dados_yahoo_finance"
   ]
  },
  {
   "cell_type": "markdown",
   "id": "371b7be0-304c-4522-b16b-e714b90edce0",
   "metadata": {},
   "source": [
    "# Passo 6 - Pegar dados de índices fornecidos pela VAROS"
   ]
  },
  {
   "cell_type": "code",
   "execution_count": null,
   "id": "ad09a409-2f9c-4310-8a5e-f0d3310248e9",
   "metadata": {},
   "outputs": [],
   "source": [
    "dados_indices = pd.read_csv(\"dados_indices_base_varos.csv\", index_col = \"data\")\n",
    "dados_indices.index = pd.to_datetime(dados_indices.index)\n",
    "\n",
    "dados_indices"
   ]
  },
  {
   "cell_type": "markdown",
   "id": "f67b4796-584e-4776-beb4-1e2e3c23e841",
   "metadata": {},
   "source": [
    "# Passo 7 - Pegar o retorno do CDI do banco central"
   ]
  },
  {
   "cell_type": "code",
   "execution_count": null,
   "id": "63eb6d84-141d-4b1f-aecc-962186b09e53",
   "metadata": {},
   "outputs": [],
   "source": [
    "rendimento_cdi = sgs.get({\"CDI\": 12}, start= datetime.datetime(2014, 9, 18))\n",
    "\n",
    "rendimento_cdi = rendimento_cdi/100\n",
    "\n",
    "rendimento_cdi"
   ]
  },
  {
   "cell_type": "markdown",
   "id": "bae7af0c-e770-43fd-9490-a73da259df7a",
   "metadata": {},
   "source": [
    "# Passo 8 - Juntar todos os dados de retorno"
   ]
  },
  {
   "cell_type": "code",
   "execution_count": null,
   "id": "a8752c98-b502-4c56-8899-b9e3032d00ff",
   "metadata": {},
   "outputs": [],
   "source": [
    "dados_totais = dados_yahoo_finance.join(dados_indices)\n",
    "dados_totais = dados_totais.join(rendimento_cdi)\n",
    "\n",
    "dados_totais"
   ]
  },
  {
   "cell_type": "markdown",
   "id": "1f93fbe5-3ad6-4a83-8591-f257ff8cf454",
   "metadata": {},
   "source": [
    "# Passo 9 - Calcular volatilidade histórica"
   ]
  },
  {
   "cell_type": "code",
   "execution_count": null,
   "id": "9812900c-9b29-470f-aec2-1bdce1a2353e",
   "metadata": {},
   "outputs": [],
   "source": [
    "vol_historica = dados_totais.std() * np.sqrt(252)\n",
    "\n",
    "vol_historica.sort_values(ascending = False)"
   ]
  },
  {
   "cell_type": "markdown",
   "id": "a58d0c8c-b4da-4619-beb6-8b389f007f48",
   "metadata": {},
   "source": [
    "# Passo 10 - Calcular retorno histórico (acumulado e ao ano)"
   ]
  },
  {
   "cell_type": "code",
   "execution_count": null,
   "id": "017b6add-e2ca-4760-a3c0-4f8726d1b8bd",
   "metadata": {},
   "outputs": [],
   "source": [
    "retorno_acumulado = (1 + dados_totais).cumprod() - 1\n",
    "retorno_acumulado = retorno_acumulado.iloc[-1, :]\n",
    "\n",
    "retorno_acumulado"
   ]
  },
  {
   "cell_type": "code",
   "execution_count": null,
   "id": "68f03ffa-bb7b-4519-9f11-143cd255e7ca",
   "metadata": {},
   "outputs": [],
   "source": [
    "investiu_100_reais = (1 + dados_totais).cumprod() * 100\n",
    "\n",
    "investiu_100_reais"
   ]
  },
  {
   "cell_type": "code",
   "execution_count": null,
   "id": "5f969d48-3edd-48a6-8ecf-ce841db6f7b8",
   "metadata": {},
   "outputs": [],
   "source": [
    "#retorno ao ano\n",
    "\n",
    "numero_de_dias = len(dados_totais)\n",
    "\n",
    "retorno_ao_ano = (1 + retorno_acumulado) ** (252/numero_de_dias) - 1\n",
    "\n",
    "retorno_ao_ano"
   ]
  },
  {
   "cell_type": "markdown",
   "id": "258a54a5-edbb-4b36-bd57-93cfbc7a764e",
   "metadata": {},
   "source": [
    "# Passo 11 - Calcular retorno ajustado ao risco"
   ]
  },
  {
   "cell_type": "code",
   "execution_count": null,
   "id": "e9fccf4e",
   "metadata": {},
   "outputs": [],
   "source": [
    "sharpe = retorno_ao_ano/vol_historica\n",
    "\n",
    "sharpe"
   ]
  },
  {
   "cell_type": "markdown",
   "id": "475a1fa2-2e66-4348-ba99-99d8e93064b9",
   "metadata": {},
   "source": [
    "# Passo 12 - Visualizar resultados finais"
   ]
  },
  {
   "cell_type": "code",
   "execution_count": null,
   "id": "4e0afea9",
   "metadata": {},
   "outputs": [],
   "source": [
    "tabela_final = pd.concat([retorno_ao_ano, vol_historica, sharpe], axis = 1)\n",
    "tabela_final.columns = [\"Retorno a.a.\", \"Volatilidade a.a.\", \"Índice Sharpe\"]\n",
    "tabela_final.index = [\"BITCOIN\", \"OURO\", \"QQQ\", \"DIVIDENDOS US\", \"IBOV\", \"S&P500\", \"IFIX\", \"SMALL CAPS BR\", \n",
    "                      \"IDIV\", \"CDI\"]\n",
    "tabela_final = tabela_final.sort_values(\"Retorno a.a.\", ascending = False)\n",
    "\n",
    "tabela_final"
   ]
  },
  {
   "cell_type": "code",
   "execution_count": null,
   "id": "c2bbe533",
   "metadata": {},
   "outputs": [],
   "source": [
    "df_estilizado = tabela_final.style.format({\n",
    "    'Retorno a.a.': '{:.2%}',\n",
    "    'Volatilidade a.a.': '{:.2%}'\n",
    "})\n",
    "\n",
    "df_estilizado"
   ]
  },
  {
   "cell_type": "code",
   "execution_count": null,
   "id": "b301d5bf",
   "metadata": {},
   "outputs": [],
   "source": [
    "import matplotlib.pyplot as plt\n",
    "import mplcyberpunk\n",
    "\n",
    "plt.style.use(\"cyberpunk\")"
   ]
  },
  {
   "cell_type": "code",
   "execution_count": null,
   "id": "74ed6ff4",
   "metadata": {},
   "outputs": [],
   "source": [
    "investiu_100_reais.plot()"
   ]
  },
  {
   "cell_type": "code",
   "execution_count": null,
   "id": "aee65d79",
   "metadata": {},
   "outputs": [],
   "source": [
    "investiu_100_reais_ex_btc = investiu_100_reais.drop(\"BTC-BRL\", axis = 1)"
   ]
  },
  {
   "cell_type": "code",
   "execution_count": null,
   "id": "46bda316-a383-48af-b4a2-486feeb0e4f4",
   "metadata": {},
   "outputs": [],
   "source": [
    "investiu_100_reais_ex_btc.plot()"
   ]
  },
  {
   "cell_type": "code",
   "execution_count": null,
   "id": "883ab5f5-85ee-4f8c-a679-d4f5ddb3ad13",
   "metadata": {},
   "outputs": [],
   "source": []
  },
  {
   "cell_type": "code",
   "execution_count": null,
   "id": "fb3d025b-f0d0-4027-b709-fdfb926de1db",
   "metadata": {},
   "outputs": [],
   "source": []
  }
 ],
 "metadata": {
  "kernelspec": {
   "display_name": "Python 3 (ipykernel)",
   "language": "python",
   "name": "python3"
  },
  "language_info": {
   "codemirror_mode": {
    "name": "ipython",
    "version": 3
   },
   "file_extension": ".py",
   "mimetype": "text/x-python",
   "name": "python",
   "nbconvert_exporter": "python",
   "pygments_lexer": "ipython3",
   "version": "3.11.7"
  },
  "widgets": {
   "application/vnd.jupyter.widget-state+json": {
    "state": {},
    "version_major": 2,
    "version_minor": 0
   }
  }
 },
 "nbformat": 4,
 "nbformat_minor": 5
}
