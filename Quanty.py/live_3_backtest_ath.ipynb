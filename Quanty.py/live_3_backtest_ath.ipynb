{
 "cells": [
  {
   "cell_type": "markdown",
   "id": "a163840e-c132-4b6f-9c39-4101caecd3e4",
   "metadata": {},
   "source": [
    "# QUANT.PY - 003\n",
    "\n",
    "* Lives toda terça-feira, 20h.\n",
    "  \n",
    "  ### Grupo das lives na descrição:\n",
    "    * O código/material será enviado lá. Está na descrição do grupo. \n",
    "    * Ative o lembrete da nossa próxima live! \n",
    "<br>\n",
    "\n",
    "* Vai rolar um evento chamado Arquivos Confidenciais semana que vem onde eu vou mostrar 3 modelos de investimento lucrativos e inéditos. No final do evento vai rolar uma promoção pra entrar no Códigopy, que é minha formação de analise de dados pro mercado financeiro. 2º link da descrição.\n",
    "\n",
    "----\n",
    "\n",
    "# Projeto: Comprar ações na máxima história: armadilha o oportunidade?\n",
    "\n",
    "* Vamos supor que toda vez que uma ação bate na máxima histórica, nós compramos no fechamento e seguramos por 3 dias. Nesses 3 dias seguintes, a ação tende continuar subindo ou regredir a média? \n",
    "\n",
    "\n",
    "### Passo a passo:\n",
    "\n",
    "   **Passo 1** - Importar bibliotecas\n",
    "   \n",
    "   **Passo 2** - Pegar dados de cotação do Yahoo Finance\n",
    "   \n",
    "   **Passo 3** - Preparar e calcular dados importantes pro modelo\n",
    "   \n",
    "   **Passo 4** - Gerar sinais de compra\n",
    "   \n",
    "   **Passo 5** - Visualizar gráfico de máximas históricas\n",
    "   \n",
    "   **Passo 6** - Gerar sinais de venda\n",
    "   \n",
    "   **Passo 7** - Criar um ID para todos os trades históricos na tabela\n",
    "   \n",
    "   **Passo 8** - Calcular retornos de todos os trades\n",
    "\n",
    "   **Passo 9** - Calcular estatísticas do nosso modelo de investimento (EV, Trades certos, Rentabilidade acumulada)\n",
    "\n",
    "   \n",
    "   <br>\n",
    "   \n",
    "   \n",
    "-------------------"
   ]
  },
  {
   "cell_type": "markdown",
   "id": "484dc475-1a1b-48c8-bed7-03f66106ba36",
   "metadata": {},
   "source": [
    "# Passo 1 - Importar as bibliotecas"
   ]
  },
  {
   "cell_type": "code",
   "execution_count": null,
   "id": "b0dc12ce-9040-4265-b36c-4203a7fea338",
   "metadata": {},
   "outputs": [],
   "source": [
    "import yfinance as yf\n",
    "import pandas as pd\n",
    "import numpy as np\n",
    "import matplotlib.pyplot as plt\n",
    "import mplcyberpunk\n",
    "from matplotlib.ticker import FuncFormatter\n",
    "plt.style.use(\"cyberpunk\")"
   ]
  },
  {
   "cell_type": "markdown",
   "id": "7e35e2c1-c4b1-4fce-82e4-39a1d8f3acf1",
   "metadata": {},
   "source": [
    "# Passo 2 - Pegar dados de cotação do Yahoo Finance"
   ]
  },
  {
   "cell_type": "code",
   "execution_count": null,
   "id": "aaeac69e-7b98-4c0c-8017-fc4fc963448f",
   "metadata": {},
   "outputs": [],
   "source": [
    "ticker = \"KLBN11.SA\"\n",
    "periodo_de_hold = 3"
   ]
  },
  {
   "cell_type": "code",
   "execution_count": null,
   "id": "3525d281-0dfa-424e-9940-3c08ca99097d",
   "metadata": {},
   "outputs": [],
   "source": [
    "dados = yf.download(ticker)\n",
    "\n",
    "dados[\"Close\"].plot()"
   ]
  },
  {
   "cell_type": "markdown",
   "id": "ef10da59-0a6a-4edc-964d-67b08294852f",
   "metadata": {},
   "source": [
    "# Passo 3 - Preparar e calcular dados importantes pro modelo"
   ]
  },
  {
   "cell_type": "code",
   "execution_count": null,
   "id": "14a5b0d4-fdd0-46cd-9e4d-5044a00f5c66",
   "metadata": {},
   "outputs": [],
   "source": [
    "dados[\"retorno\"] = dados[\"Close\"].pct_change()"
   ]
  },
  {
   "cell_type": "code",
   "execution_count": null,
   "id": "5e6e13cb-37b5-4b6a-8b8d-80d28923e60b",
   "metadata": {},
   "outputs": [],
   "source": [
    "dados[\"maxima_historica\"] = dados[\"Close\"].cummax() #maxima historica ate aquele momento\n",
    "dados[\"maxima_historica_stop_venda\"] = dados[\"maxima_historica\"].shift(periodo_de_hold) #qual era a maxima historica 3 dias atrás. Vai ajudar no sinal de venda. \n",
    "dados[\"maxima_historica_sinal_compra\"] = dados[\"maxima_historica\"].shift(1) #qual era a máxima histórica ontem. Vai ajudar no sinal de compra"
   ]
  },
  {
   "cell_type": "markdown",
   "id": "1bdaffde-11d3-4191-9c16-29191e538d51",
   "metadata": {},
   "source": [
    "# Passo 4 - Gerar sinais de compra\n",
    "\n",
    "* Nosso objetivo final quando estamos fazendo um modelo de compra ou venda baseado em sinais é criar uma coluna de 0, 1 ou -1 que indicam qual era o nosso posicionamento em um determinado período do tempo no ativo. Criando essa coluna, basta multiplar pela coluna do retorno pra chegar no retorno final do modelo!. "
   ]
  },
  {
   "cell_type": "code",
   "execution_count": null,
   "id": "891f5015-c766-48f1-8554-2f72c838ca6c",
   "metadata": {},
   "outputs": [],
   "source": [
    "dados[\"sinal\"] = 0\n",
    "dados[\"sinal\"] = (dados[\"maxima_historica\"] != dados[\"maxima_historica_sinal_compra\"]).astype(int)"
   ]
  },
  {
   "cell_type": "markdown",
   "id": "4ff7cfbc-9748-4e1a-8753-dac80aa84459",
   "metadata": {},
   "source": [
    "# Passo 5 - Visualizar gráfico de máximas históricas"
   ]
  },
  {
   "cell_type": "code",
   "execution_count": null,
   "id": "bcb76e49-42df-4f98-aa45-3008ef9edeac",
   "metadata": {},
   "outputs": [],
   "source": [
    "dias_de_maxima = dados[dados[\"sinal\"] == 1][\"Close\"]"
   ]
  },
  {
   "cell_type": "code",
   "execution_count": null,
   "id": "10297d53-f52b-402e-801d-ffaaeae8f077",
   "metadata": {},
   "outputs": [],
   "source": [
    "fig, ax = plt.subplots()\n",
    "\n",
    "ax.scatter(dias_de_maxima.index, dias_de_maxima.values, color = \"red\", s=4, zorder=2)\n",
    "ax.plot(dados.index, dados[\"Close\"].values, zorder = 1)"
   ]
  },
  {
   "cell_type": "markdown",
   "id": "e823ee35-d2c9-4d15-b849-18bf1bf81656",
   "metadata": {},
   "source": [
    "# Passo 6 - Gerar sinais de venda"
   ]
  },
  {
   "cell_type": "code",
   "execution_count": null,
   "id": "441e9b42-5c06-4508-82f5-fe2cc7d39cef",
   "metadata": {},
   "outputs": [],
   "source": [
    "dados[\"sinal\"] = np.where(dados[\"sinal\"] == 0, np.where(dados[\"maxima_historica\"] != dados[\"maxima_historica_stop_venda\"], 1, 0), dados[\"sinal\"])"
   ]
  },
  {
   "cell_type": "markdown",
   "id": "f33412bd-6e8b-4aef-9097-67c22258f5ce",
   "metadata": {},
   "source": [
    "# Passo 7 - Criar um ID para todos os trades históricos na tabela\n",
    "\n",
    "* Nosso objetivo é conseguir agrupar todos os trades através de um ID"
   ]
  },
  {
   "cell_type": "code",
   "execution_count": null,
   "id": "8e51ebd9-96ba-4f12-beed-ecc6b8248f88",
   "metadata": {},
   "outputs": [],
   "source": [
    "dados['trades'] = (dados['sinal'] != dados['sinal'].shift()).cumsum() \n",
    "\n",
    "dados.head(202) #head 50 e 202"
   ]
  },
  {
   "cell_type": "code",
   "execution_count": null,
   "id": "79788100-e278-43ad-a392-26b603277b79",
   "metadata": {},
   "outputs": [],
   "source": [
    "dados['trades'] = dados['trades'].where(dados['sinal'] == 1) #só interessado nos IDs quando estávamos comprados "
   ]
  },
  {
   "cell_type": "code",
   "execution_count": null,
   "id": "2973a31f-a680-450f-95ab-68593b33b808",
   "metadata": {
    "scrolled": true
   },
   "outputs": [],
   "source": [
    "dados = dados.dropna(subset = \"trades\")\n",
    "\n",
    "dados.head(50)"
   ]
  },
  {
   "cell_type": "markdown",
   "id": "f2171b82-5079-46c9-91f2-2a0ce05615ab",
   "metadata": {},
   "source": [
    "# Passo 8 - Calcular retornos de todos os trades"
   ]
  },
  {
   "cell_type": "code",
   "execution_count": null,
   "id": "d7321c66-aa97-4678-8ff1-d08ae4540340",
   "metadata": {},
   "outputs": [],
   "source": [
    "dados[\"retorno_cota\"] = 1 + dados[\"retorno\"]"
   ]
  },
  {
   "cell_type": "code",
   "execution_count": null,
   "id": "54f0ad63-7951-4324-bc01-3312df9f813c",
   "metadata": {},
   "outputs": [],
   "source": [
    "dados[\"rentabilidade_trades\"] = dados.groupby(\"trades\")[\"retorno_cota\"].cumprod() - 1"
   ]
  },
  {
   "cell_type": "code",
   "execution_count": null,
   "id": "457dadfc-69d1-4442-b341-86c9074c2a92",
   "metadata": {},
   "outputs": [],
   "source": [
    "dados = dados.sort_index(ascending = False)\n",
    "dados = dados.drop_duplicates(\"trades\") #deixando apenas o ultimo dia pra pegar o retorno final do trade\n",
    "dados = dados.sort_index(ascending = True)\n",
    "dados = dados.dropna()\n",
    "\n",
    "dados = dados[[\"trades\", \"rentabilidade_trades\"]]\n",
    "\n",
    "dados"
   ]
  },
  {
   "cell_type": "markdown",
   "id": "31a91179-0111-4386-92d6-7b38b287ba71",
   "metadata": {},
   "source": [
    "# Passo 9 - Calcular estatísticas do nosso modelo de investimento (EV, Trades certos, Rentabilidade acumulada)"
   ]
  },
  {
   "cell_type": "code",
   "execution_count": null,
   "id": "106282db-6003-4b36-aced-0361b56be752",
   "metadata": {},
   "outputs": [],
   "source": [
    "#Estatisticas\n",
    "\n",
    "rentabilidade_acumulada = ((1 + dados[\"rentabilidade_trades\"]).cumprod() - 1).iloc[-1]\n",
    "trades_certos = (len(dados[dados[\"rentabilidade_trades\"] > 0]))/len(dados[\"rentabilidade_trades\"])\n",
    "trades_errados = 1 - trades_certos\n",
    "media_ganhos = dados[dados[\"rentabilidade_trades\"] > 0][\"rentabilidade_trades\"].mean()\n",
    "media_perdas = dados[dados[\"rentabilidade_trades\"] <= 0][\"rentabilidade_trades\"].mean()\n",
    "EV = (trades_certos * media_ganhos) - (trades_errados * abs(media_perdas))\n",
    "\n",
    "print(f'''\n",
    "Rentabilidade Acumulada: {rentabilidade_acumulada}\n",
    "Trades Certos: {trades_certos}\n",
    "EV: {EV}\n",
    "\n",
    "\n",
    "''')"
   ]
  },
  {
   "cell_type": "code",
   "execution_count": null,
   "id": "5aef986d-04ca-4323-b9b5-d8539a477d55",
   "metadata": {},
   "outputs": [],
   "source": [
    "scatter = dados[\"rentabilidade_trades\"].to_frame()\n",
    "scatter = scatter.reset_index()\n",
    "scatter.columns = [\"Data\", \"Rentabilidade do Trade\"]\n",
    "ax = scatter.plot(x = \"Data\", y = \"Rentabilidade do Trade\", kind = \"scatter\")\n",
    "ax.yaxis.set_major_formatter(FuncFormatter(lambda y, _: f'{y*100:.0f}%'))\n",
    "ax.axhline(y=0, color = \"red\", linestyle='--')"
   ]
  },
  {
   "cell_type": "code",
   "execution_count": null,
   "id": "88c7e7c9-a7d3-4a9b-9939-685d94395be4",
   "metadata": {},
   "outputs": [],
   "source": []
  },
  {
   "cell_type": "code",
   "execution_count": null,
   "id": "fdb95f5b-5e61-4242-99b2-fa3d94749cf7",
   "metadata": {},
   "outputs": [],
   "source": []
  },
  {
   "cell_type": "code",
   "execution_count": null,
   "id": "f08b4374-1995-4871-9956-f0b44d44b334",
   "metadata": {},
   "outputs": [],
   "source": []
  },
  {
   "cell_type": "code",
   "execution_count": null,
   "id": "8282cd2e-ef8d-4a4f-8071-2e8ddab69717",
   "metadata": {},
   "outputs": [],
   "source": []
  },
  {
   "cell_type": "code",
   "execution_count": null,
   "id": "8f0ee4b7-97d6-4b17-9577-8652020cadbf",
   "metadata": {},
   "outputs": [],
   "source": []
  },
  {
   "cell_type": "code",
   "execution_count": null,
   "id": "e2703f45-a06c-477b-9ce7-abc56ce7180a",
   "metadata": {},
   "outputs": [],
   "source": []
  }
 ],
 "metadata": {
  "kernelspec": {
   "display_name": "Python 3 (ipykernel)",
   "language": "python",
   "name": "python3"
  },
  "language_info": {
   "codemirror_mode": {
    "name": "ipython",
    "version": 3
   },
   "file_extension": ".py",
   "mimetype": "text/x-python",
   "name": "python",
   "nbconvert_exporter": "python",
   "pygments_lexer": "ipython3",
   "version": "3.11.7"
  },
  "widgets": {
   "application/vnd.jupyter.widget-state+json": {
    "state": {},
    "version_major": 2,
    "version_minor": 0
   }
  }
 },
 "nbformat": 4,
 "nbformat_minor": 5
}
